{
 "cells": [
  {
   "cell_type": "markdown",
   "metadata": {},
   "source": [
    "SCENARIO\n",
    "Your client is a multinational real estate developer that builds residential and commercial properties \n",
    "around the world. They have a large portfolio of projects that are in development simultaneously. They \n",
    "currently have a 25% failure rate for their projects that is significantly higher than the industry \n",
    "benchmark of less than 10%. They would like to understand what the key leading indicators for project \n",
    "failure are when they are planning their projects. This will allow them to only invest capital into the best \n",
    "quality projects. They also want to know ongoing which projects are likely to fail so they can cut their \n",
    "losses and cease the projects. Secondly, the real estate developer would like to search local building \n",
    "policies to quickly find the relevant answers as they plan their developments. This could include zoning \n",
    "policies, environmental policies and development planning policies.\n",
    "\n",
    "GOAL\n",
    "Predict failure! Using NYC construction data.\n",
    "Which ongoing projects are likely to fail?\n",
    "Which projects are worth investing in? (less likely to fail)"
   ]
  },
  {
   "cell_type": "code",
   "execution_count": 3,
   "metadata": {},
   "outputs": [],
   "source": [
    "import pandas as pd\n",
    "\n",
    "df = pd.read_csv(\"https://datasocibmproject.s3.ap-southeast-2.amazonaws.com/structured_data/capital_project_schedules_and_budgets_1.csv\")\n",
    "\n",
    "df.head\n",
    "\n",
    "# in case the data frame is accidentally deleted or irreversibly altered\n",
    "df_copy = df.copy()"
   ]
  },
  {
   "cell_type": "markdown",
   "metadata": {},
   "source": [
    "TODO:\n",
    "reassigning names and datatypes; clean missing, incorrect, duplicate values, outliers"
   ]
  },
  {
   "cell_type": "markdown",
   "metadata": {},
   "source": [
    "REASSIGNING NAMES AND DATATYPES"
   ]
  },
  {
   "cell_type": "code",
   "execution_count": 4,
   "metadata": {},
   "outputs": [
    {
     "data": {
      "text/plain": [
       "['Unnamed: 0',\n",
       " 'project_geographic_district',\n",
       " 'project_building_identifier',\n",
       " 'project_school_name',\n",
       " 'project_type',\n",
       " 'project_description',\n",
       " 'project_phase_name',\n",
       " 'project_status_name',\n",
       " 'project_phase_actual_start_date',\n",
       " 'project_phase_planned_end_date',\n",
       " 'project_phase_actual_end_date',\n",
       " 'project_budget_amount',\n",
       " 'final_estimate_of_actual_costs_through_end_of_phase_amount',\n",
       " 'total_phase_actual_spending_amount',\n",
       " 'dsf_number_s',\n",
       " 'failure']"
      ]
     },
     "execution_count": 4,
     "metadata": {},
     "output_type": "execute_result"
    }
   ],
   "source": [
    "list(df.columns)"
   ]
  },
  {
   "cell_type": "markdown",
   "metadata": {},
   "source": [
    "HANDLING MISSING AND INCORRECT VALUES, DUPLICATES\n",
    "missing values in \n",
    "- project phase name, \n",
    "- project phase actual end date, --> also what is PNS?\n",
    "- final_estimate_of_actual_costs_through_end_of_phase_amount\n"
   ]
  },
  {
   "cell_type": "code",
   "execution_count": 5,
   "metadata": {},
   "outputs": [
    {
     "data": {
      "text/plain": [
       "(0, 16)"
      ]
     },
     "execution_count": 5,
     "metadata": {},
     "output_type": "execute_result"
    }
   ],
   "source": [
    "# no duplicates found\n",
    "df[df.duplicated()].shape"
   ]
  },
  {
   "cell_type": "code",
   "execution_count": null,
   "metadata": {},
   "outputs": [],
   "source": []
  },
  {
   "cell_type": "markdown",
   "metadata": {},
   "source": []
  }
 ],
 "metadata": {
  "kernelspec": {
   "display_name": "Python 3",
   "language": "python",
   "name": "python3"
  },
  "language_info": {
   "codemirror_mode": {
    "name": "ipython",
    "version": 3
   },
   "file_extension": ".py",
   "mimetype": "text/x-python",
   "name": "python",
   "nbconvert_exporter": "python",
   "pygments_lexer": "ipython3",
   "version": "3.11.9"
  }
 },
 "nbformat": 4,
 "nbformat_minor": 2
}
